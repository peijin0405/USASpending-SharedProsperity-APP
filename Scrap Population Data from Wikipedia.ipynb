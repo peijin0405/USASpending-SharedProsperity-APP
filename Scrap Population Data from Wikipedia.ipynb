{
 "cells": [
  {
   "cell_type": "markdown",
   "id": "3d68ca98",
   "metadata": {},
   "source": [
    "### Scrap Population Data from Wikipedia\n",
    "+ WIKIPEDIA List of countries and dependencies by population Link:https://en.wikipedia.org/wiki/List_of_countries_and_dependencies_by_population"
   ]
  },
  {
   "cell_type": "code",
   "execution_count": 1,
   "id": "58c14447",
   "metadata": {},
   "outputs": [],
   "source": [
    "## Libraries\n",
    "import requests\n",
    "from bs4 import BeautifulSoup\n",
    "import pandas as pd\n",
    "import numpy as np\n",
    "from pandas.core.frame import DataFrame\n",
    "\n",
    "import country_converter as coco"
   ]
  },
  {
   "cell_type": "code",
   "execution_count": 3,
   "id": "25d61054",
   "metadata": {},
   "outputs": [],
   "source": [
    "continent_population_url = \"https://en.wikipedia.org/wiki/List_of_countries_and_dependencies_by_population\"\n",
    "table_name = \"wikitable sortable\""
   ]
  },
  {
   "cell_type": "code",
   "execution_count": 4,
   "id": "9f485aaf",
   "metadata": {},
   "outputs": [],
   "source": [
    "##Request the contents of the webpage \n",
    "page = requests.get(continent_population_url)\n",
    "page.status_code##==200 means successful\n",
    "\n",
    "##getting the html \n",
    "response = requests.get(continent_population_url)\n",
    "soup = BeautifulSoup(response.text, \"html.parser\")\n",
    "\n",
    "##getting the table \n",
    "soup_table = soup.find('table', {'class':table_name})\n",
    "\n",
    "df = pd.read_html(str(soup_table))\n",
    "country_list_0 = df.pop()"
   ]
  },
  {
   "cell_type": "code",
   "execution_count": 5,
   "id": "1b378755",
   "metadata": {},
   "outputs": [
    {
     "name": "stderr",
     "output_type": "stream",
     "text": [
      "Transnistria not found in regex\n",
      "Abkhazia not found in regex\n",
      "Artsakh not found in regex\n",
      "South Ossetia not found in regex\n"
     ]
    }
   ],
   "source": [
    "#clean the data\n",
    "##filter the columns \n",
    "country_list_1 = country_list_0.filter([\"Country / Dependency\",\"UN Region\",\"Population\",\"Date\"])\n",
    "##drop the first row\n",
    "country_list_2 = country_list_1.drop([0])\n",
    "## clean the column of UN Region \n",
    "country_list_2['UN Region'] = country_list_2['UN Region'].apply(lambda x: x.split('[')[0])\n",
    "country_list_2['Country / Dependency'] = country_list_2['Country / Dependency'].apply(lambda x: x.split('(')[0])\n",
    "## standardize country name\n",
    "country_list_2[\"standard_names\"] = coco.convert(names=country_list_2[\"Country / Dependency\"], to='name_short')"
   ]
  },
  {
   "cell_type": "code",
   "execution_count": 6,
   "id": "9691fdb1",
   "metadata": {},
   "outputs": [],
   "source": [
    "#export data\n",
    "country_list_2.to_csv('C:/Users/little page/Desktop/22/WIKI_country_list(population).csv')"
   ]
  }
 ],
 "metadata": {
  "kernelspec": {
   "display_name": "Python 3",
   "language": "python",
   "name": "python3"
  },
  "language_info": {
   "codemirror_mode": {
    "name": "ipython",
    "version": 3
   },
   "file_extension": ".py",
   "mimetype": "text/x-python",
   "name": "python",
   "nbconvert_exporter": "python",
   "pygments_lexer": "ipython3",
   "version": "3.8.8"
  }
 },
 "nbformat": 4,
 "nbformat_minor": 5
}
